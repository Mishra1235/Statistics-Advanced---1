{
  "nbformat": 4,
  "nbformat_minor": 0,
  "metadata": {
    "colab": {
      "provenance": []
    },
    "kernelspec": {
      "name": "python3",
      "display_name": "Python 3"
    },
    "language_info": {
      "name": "python"
    }
  },
  "cells": [
    {
      "cell_type": "markdown",
      "source": [
        "# Statistics Advanced -1"
      ],
      "metadata": {
        "id": "hneSIPr2gyPG"
      }
    },
    {
      "cell_type": "markdown",
      "source": [
        "### Q1. What is a random variable in probability theory?\n",
        "\n",
        "- In probability theory, a random variable is a function that assigns a numerical value to each possible outcome of a random experiment. Although the outcome of the experiment is uncertain, the rule that maps outcomes to numbers is fixed. Random variables are denoted by capital letters such as\n",
        "𝑋\n",
        "X,\n",
        "𝑌\n",
        "Y, or\n",
        "𝑍\n",
        "Z. They are essential because they allow us to represent real-world random phenomena mathematically. There are two main types. A discrete random variable takes on a finite or countable number of values, such as the number of heads obtained in five coin tosses or the result of rolling a die. A continuous random variable can take any value within a continuous range, such as temperature, time, or height. For example, if we roll a fair die and define\n",
        "𝑋\n",
        "X as the number shown, then\n",
        "𝑋\n",
        "X can take values 1 to 6. Random variables are fundamental in statistics because they form the basis for probability distributions, expected value, variance, and other measures that describe and predict uncertain events.\n",
        "\n",
        "### Q2. What are the types of random variables?\n",
        "\n",
        "- In probability theory, a random variable is a function that assigns numerical values to the outcomes of a random experiment. Based on the nature of their possible values, random variables are classified into two main types: discrete and continuous. A discrete random variable takes on a finite or countable set of possible values. Examples include the number of heads in three coin tosses, the result of rolling a fair die, or the number of students present in a class. The probabilities of these outcomes are described using a Probability Mass Function (PMF), which lists the probability for each value. On the other hand, a continuous random variable can take on any value within a given interval, meaning there are infinitely many possible outcomes. Examples include height, weight, temperature, or the time taken to finish a task. Continuous random variables are described using a Probability Density Function (PDF), where probabilities are determined over intervals. Understanding these two types is essential in statistics because they determine the methods used for probability calculations, data analysis, and modeling real-world phenomena.\n",
        "\n",
        "### Q3. Explain the difference between discrete and continuous distributions.\n",
        "\n",
        "- In probability theory, a distribution describes how the values of a random variable are spread and the probabilities associated with those values. Discrete distributions are associated with discrete random variables, which take on a finite or countable set of values. The probability of each possible value is given by a Probability Mass Function (PMF), and the sum of all probabilities equals 1. Examples include the binomial distribution, Poisson distribution, and the distribution of outcomes from rolling a die.\n",
        "\n",
        " Continuous distributions are associated with continuous random variables, which can take on any value within a given range or interval. Their probabilities are described by a Probability Density Function (PDF), and probabilities are found over intervals rather than at specific points (since the probability of any exact value is zero). Examples include the normal distribution, exponential distribution, and uniform distribution over a continuous range.\n",
        "\n",
        " In short, discrete distributions deal with countable outcomes, while continuous distributions deal with measurements over a continuous scale.\n",
        "\n",
        "### Q4. What is a binomial distribution, and how is it used in probability?\n",
        "\n",
        "- In probability theory, the binomial distribution is a discrete probability distribution that models the number of successes in a fixed number of independent trials, where each trial has only two possible outcomes: success or failure. The probability of success in each trial is constant and denoted by p, while the probability of failure is q = 1 - p.\n",
        " Uses in probability:\n",
        " Predicting the number of defective items in a batch of products\n",
        "\n",
        " Determining the probability of getting a certain number of heads in coin tosses\n",
        "\n",
        " Modeling yes/no survey responses\n",
        "\n",
        " Quality control and reliability testing.\n",
        "\n",
        "### Q5. What is the standard normal distribution, and why is it important?\n",
        "\n",
        "- In probability and statistics, the standard normal distribution is a special type of normal (Gaussian) distribution with a mean (\n",
        "𝜇\n",
        "μ) of 0 and a standard deviation (\n",
        "𝜎\n",
        "σ) of 1. It is a continuous, symmetric, bell-shaped curve centered at zero. The horizontal axis represents z-scores, which measure how many standard deviations a data point is from the mean.\n",
        "\n",
        "  . This distribution is important because any normal distribution can be transformed into the standard normal form through standardization, using the formula\n",
        "𝑧\n",
        "=\n",
        "𝑥\n",
        "−\n",
        "𝜇\n",
        "𝜎\n",
        "z=\n",
        "σ\n",
        "x−μ\n",
        "​\n",
        " . This allows different datasets to be compared on the same scale.    The standard normal distribution is widely used for calculating probabilities, finding percentiles, and conducting hypothesis tests such as the z-test. It is also central to the Central Limit Theorem, which states that the sampling distribution of the mean approaches normality as sample size increases, regardless of the population distribution. Due to these properties, the standard normal distribution serves as a fundamental reference model in statistical analysis, enabling consistent interpretation and decision-making across various fields.\n",
        "\n",
        "### Q6.  What is the Central Limit Theorem (CLT), and why is it critical in statistics?\n",
        "\n",
        "- The Central Limit Theorem (CLT) is a fundamental concept in statistics that states: when independent random samples are taken from any population with a finite mean (\n",
        "𝜇\n",
        "μ) and variance (\n",
        "𝜎\n",
        "2\n",
        "σ\n",
        "2\n",
        " ), the distribution of the sample means will approach a normal distribution as the sample size increases, regardless of the population’s original distribution shape. The resulting normal distribution will have a mean equal to the population mean (\n",
        "𝜇\n",
        "μ) and a standard deviation equal to the population standard deviation divided by the square root of the sample size (\n",
        "𝜎\n",
        "/\n",
        "𝑛\n",
        "σ/\n",
        "n\n",
        "​\n",
        " ), known as the standard error. The CLT is critical because it justifies the use of the normal distribution in many statistical methods, even when the underlying data is not normally distributed. It forms the basis for hypothesis testing, confidence intervals, and many inferential statistical techniques. In real-world applications, the CLT allows researchers to make probability-based conclusions about population parameters using sample data, enabling accurate predictions and decision-making. This theorem is especially powerful because it applies broadly across disciplines, from quality control in manufacturing to risk assessment in finance, making it one of the most important results in statistics.\n",
        "\n",
        "### Q7. What is the significance of confidence intervals in statistical analysis?\n",
        "\n",
        "- In statistical analysis, a confidence interval (CI) is a range of values, derived from sample data, that is likely to contain the true population parameter (such as the mean or proportion) with a specified level of confidence. For example, a 95% confidence interval means that if we were to take many random samples and compute a CI from each, about 95% of those intervals would contain the true population value. Confidence intervals are important because they provide more information than a single point estimate. While a point estimate gives only one best guess, a CI reflects the precision of the estimate and the degree of uncertainty due to sampling variability. A narrower interval indicates greater precision, usually achieved with larger sample sizes or less variability, while a wider interval reflects more uncertainty. Confidence intervals are widely used in research to assess reliability, compare groups, and make informed decisions. They also help in hypothesis testing by showing whether a hypothesized parameter value lies within the plausible range. Thus, confidence intervals are a key tool for interpreting results and understanding the strength and accuracy of statistical estimates in real-world applications.\n",
        "\n",
        "### Q8. What is the concept of expected value in a probability distribution?\n",
        "\n",
        "- In probability theory, the expected value (also called the mean or mathematical expectation) of a random variable is the long-run average value it would take over many repetitions of the same random experiment. It is calculated as the sum (for discrete distributions) or integral (for continuous distributions) of all possible values of the random variable, each weighted by its probability of occurrence. For a discrete random variable\n",
        "𝑋\n",
        "X with values\n",
        "𝑥\n",
        "𝑖\n",
        "x\n",
        "i\n",
        "​\n",
        "  and probabilities\n",
        "𝑝\n",
        "𝑖\n",
        "p\n",
        "i\n",
        "​\n",
        " , the expected value is given by:\n",
        "\n",
        "𝐸\n",
        "[\n",
        "𝑋\n",
        "]\n",
        "=\n",
        "∑\n",
        "𝑖\n",
        "𝑥\n",
        "𝑖\n",
        "𝑝\n",
        "𝑖\n",
        "E[X]=\n",
        "i\n",
        "∑\n",
        "​\n",
        " x\n",
        "i\n",
        "​\n",
        " p\n",
        "i\n",
        "​\n",
        "\n",
        "For a continuous random variable with probability density function\n",
        "𝑓\n",
        "(\n",
        "𝑥\n",
        ")\n",
        "f(x), it is:\n",
        "\n",
        "𝐸\n",
        "[\n",
        "𝑋\n",
        "]\n",
        "=\n",
        "∫\n",
        "−\n",
        "∞\n",
        "∞\n",
        "𝑥\n",
        "\n",
        "𝑓\n",
        "(\n",
        "𝑥\n",
        ")\n",
        "\n",
        "𝑑\n",
        "𝑥\n",
        "E[X]=∫\n",
        "−∞\n",
        "∞\n",
        "​\n",
        " xf(x)dx\n",
        "The expected value represents the theoretical center or balance point of the probability distribution. It is not necessarily a value that the random variable will actually take, but rather an average over many trials. Expected value is significant in decision-making, risk assessment, and predictions—such as calculating average winnings in gambling, estimating average returns in finance, or predicting long-term outcomes in engineering and science. It is a core concept because it summarizes a distribution into a single, interpretable measure of central tendency.\n",
        "\n",
        "\n",
        "# Practical Question\n",
        "\n",
        "\n",
        "\n",
        "    \n",
        "\n",
        "\n",
        "\n",
        "\n",
        "\n"
      ],
      "metadata": {
        "id": "oNo2dqwVhEpM"
      }
    },
    {
      "cell_type": "markdown",
      "source": [
        "# Q9. : Write a Python program to generate 1000 random numbers from a normal\n",
        "distribution with mean = 50 and standard deviation = 5. Compute its mean and standard\n",
        "deviation using NumPy, and draw a histogram to visualize the distribution.\n",
        "(Include your Python code and output in the code box below.)"
      ],
      "metadata": {
        "id": "LzMgpdBTxTM-"
      }
    },
    {
      "cell_type": "code",
      "execution_count": 1,
      "metadata": {
        "colab": {
          "base_uri": "https://localhost:8080/",
          "height": 507
        },
        "id": "3oNAU-IogTna",
        "outputId": "89ed69c4-2362-42a6-fe16-0ee96ed72506"
      },
      "outputs": [
        {
          "output_type": "stream",
          "name": "stdout",
          "text": [
            "Calculated Mean: 50.08\n",
            "Calculated Standard Deviation: 5.08\n"
          ]
        },
        {
          "output_type": "display_data",
          "data": {
            "text/plain": [
              "<Figure size 640x480 with 1 Axes>"
            ],
            "image/png": "[encoded data removed]"
          },
          "metadata": {}
        }
      ],
      "source": [
        "import numpy as np\n",
        "import matplotlib.pyplot as plt\n",
        "\n",
        "# Parameters\n",
        "mean = 50\n",
        "std_dev = 5\n",
        "n_samples = 1000\n",
        "\n",
        "# Generate 1000 random numbers from normal distribution\n",
        "data = np.random.normal(mean, std_dev, n_samples)\n",
        "\n",
        "# Compute mean and standard deviation\n",
        "calculated_mean = np.mean(data)\n",
        "calculated_std_dev = np.std(data)\n",
        "\n",
        "# Print results\n",
        "print(f\"Calculated Mean: {calculated_mean:.2f}\")\n",
        "print(f\"Calculated Standard Deviation: {calculated_std_dev:.2f}\")\n",
        "\n",
        "# Draw histogram\n",
        "plt.hist(data, bins=30, color=\"#99ccff\", edgecolor=\"black\")\n",
        "plt.title(f\"Normal Distribution (mean={mean}, std_dev={std_dev})\")\n",
        "plt.xlabel(\"Value\")\n",
        "plt.ylabel(\"Frequency\")\n",
        "plt.axvline(calculated_mean, color='red', linestyle='dashed', linewidth=2, label=f\"Mean = {calculated_mean:.2f}\")\n",
        "plt.legend()\n",
        "plt.show()\n"
      ]
    },
    {
      "cell_type": "markdown",
      "source": [
        "# Q10. You are working as a data analyst for a retail company. The company has\n",
        "collected daily sales data for 2 years and wants you to identify the overall sales trend.\n",
        "daily_sales = [220, 245, 210, 265, 230, 250, 260, 275, 240, 255,\n",
        "235, 260, 245, 250, 225, 270, 265, 255, 250, 260]\n",
        "● Explain how you would apply the Central Limit Theorem to estimate the average sales\n",
        "with a 95% confidence interval.\n",
        "● Write the Python code to compute the mean sales and its confidence interval.\n",
        "(Include your Python code and output in the code box below.)"
      ],
      "metadata": {
        "id": "6iaa9Zeoyf3t"
      }
    },
    {
      "cell_type": "code",
      "source": [
        "import numpy as np\n",
        "import scipy.stats as stats\n",
        "\n",
        "# Data\n",
        "daily_sales = [220, 245, 210, 265, 230, 250, 260, 275, 240, 255,\n",
        "               235, 260, 245, 250, 225, 270, 265, 255, 250, 260]\n",
        "\n",
        "# Convert to NumPy array\n",
        "sales_array = np.array(daily_sales)\n",
        "\n",
        "# Mean and Standard Deviation\n",
        "mean_sales = np.mean(sales_array)\n",
        "std_dev_sales = np.std(sales_array, ddof=1)  # sample std deviation\n",
        "n = len(sales_array)\n",
        "\n",
        "# Z-score for 95% CI\n",
        "z_score = 1.96\n",
        "\n",
        "# Margin of Error\n",
        "margin_error = z_score * (std_dev_sales / np.sqrt(n))\n",
        "\n",
        "# Confidence Interval\n",
        "lower_bound = mean_sales - margin_error\n",
        "upper_bound = mean_sales + margin_error\n",
        "\n",
        "# Output\n",
        "print(f\"Mean Sales: {mean_sales:.2f}\")\n",
        "print(f\"95% Confidence Interval: ({lower_bound:.2f}, {upper_bound:.2f})\")\n"
      ],
      "metadata": {
        "colab": {
          "base_uri": "https://localhost:8080/"
        },
        "id": "ESMudBNoyuvn",
        "outputId": "2e6579d2-30da-48ef-ebba-01fc955c588a"
      },
      "execution_count": 2,
      "outputs": [
        {
          "output_type": "stream",
          "name": "stdout",
          "text": [
            "Mean Sales: 248.25\n",
            "95% Confidence Interval: (240.68, 255.82)\n"
          ]
        }
      ]
    }
  ]
}